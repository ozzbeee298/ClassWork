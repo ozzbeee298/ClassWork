{
 "cells": [
  {
   "cell_type": "markdown",
   "metadata": {},
   "source": [
    "# Machine Learning Assignment\n",
    "\n",
    "**Dataset**:       NASA NEO\n"
   ]
  },
  {
   "cell_type": "markdown",
   "metadata": {},
   "source": [
    "## Imports\n",
    "\n",
    "Add imports here as needed.\n",
    "\n",
    "Remember to **re-run the cell when you add imports**, so it gets loaded into the virtual notebook environment!"
   ]
  },
  {
   "cell_type": "code",
   "execution_count": 1,
   "metadata": {
    "ExecuteTime": {
     "end_time": "2023-10-06T12:15:57.379422Z",
     "start_time": "2023-10-06T12:15:44.665480Z"
    }
   },
   "outputs": [],
   "source": [
    "# Data and Datasets\n",
    "import pandas as pd\n",
    "from sklearn.datasets import load_iris\n",
    "from sklearn.datasets import load_wine\n",
    "from sklearn.preprocessing import StandardScaler\n",
    "\n",
    "# Clustering\n",
    "from sklearn.cluster import DBSCAN\n",
    "\n",
    "# Validation methods\n",
    "from sklearn.model_selection import train_test_split\n",
    "from sklearn.model_selection import cross_val_score\n",
    "from sklearn.model_selection import cross_validate\n",
    "from sklearn.model_selection import StratifiedKFold\n",
    "\n",
    "# Metrics\n",
    "from sklearn import metrics\n",
    "from sklearn.metrics import make_scorer\n",
    "from sklearn.metrics import accuracy_score\n",
    "from sklearn.metrics import precision_score\n",
    "from sklearn.metrics import recall_score\n",
    "\n",
    "# Classifiers\n",
    "from sklearn.linear_model import LogisticRegression\n",
    "from sklearn import tree\n",
    "from sklearn.tree import DecisionTreeClassifier\n",
    "from sklearn.ensemble import RandomForestClassifier\n",
    "from sklearn.naive_bayes import GaussianNB\n",
    "from sklearn.naive_bayes import MultinomialNB\n",
    "from sklearn.naive_bayes import BernoulliNB\n",
    "from sklearn.neighbors import KNeighborsClassifier\n",
    "\n",
    "# Hyper-parameter optimisation\n",
    "from sklearn.model_selection import GridSearchCV\n",
    "from sklearn.model_selection import RandomizedSearchCV\n",
    "\n",
    "# Feature selection & feature engineering\n",
    "from sklearn.feature_selection import RFE\n",
    "from sklearn.feature_selection import RFECV\n",
    "from sklearn.decomposition import PCA\n",
    "\n",
    "# Stats\n",
    "from scipy.stats import randint as sp_randint\n",
    "from scipy.stats import pearsonr\n",
    "from scipy.stats import spearmanr\n",
    "from scipy.stats import shapiro     # Shapiro Wilk\n",
    "from scipy.stats import normaltest  # D’Agostino’s K^2\n",
    "from scipy.stats import anderson    # Anderson-Darling\n",
    "from scipy.stats import ttest_ind    # independent student t-test; assumes normality\n",
    "from scipy.stats import mannwhitneyu # non-parametric; doesn't assume normality\n",
    "\n",
    "# Visualisation\n",
    "import matplotlib.pyplot as plt\n",
    "import seaborn as sns\n",
    "from IPython.display import SVG\n",
    "from graphviz import Source\n",
    "from IPython.display import display\n",
    "from sklearn.tree import export_graphviz\n",
    "\n",
    "# Utils\n",
    "import pprint\n",
    "import numpy as np\n",
    "from time import time\n",
    "import openpyxl"
   ]
  },
  {
   "cell_type": "markdown",
   "metadata": {},
   "source": [
    "## Loading the dataset"
   ]
  },
  {
   "cell_type": "code",
   "execution_count": 2,
   "metadata": {
    "ExecuteTime": {
     "end_time": "2023-10-06T12:15:57.505617Z",
     "start_time": "2023-10-06T12:15:57.390792Z"
    }
   },
   "outputs": [
    {
     "name": "stdout",
     "output_type": "stream",
     "text": [
      "<class 'pandas.core.frame.DataFrame'>\n",
      "RangeIndex: 131416 entries, 0 to 131415\n",
      "Data columns (total 8 columns):\n",
      " #   Column             Non-Null Count   Dtype  \n",
      "---  ------             --------------   -----  \n",
      " 0   name               130220 non-null  object \n",
      " 1   abs_magnitude      104251 non-null  float64\n",
      " 2   min_diameter       104010 non-null  float64\n",
      " 3   max_diameter       130258 non-null  float64\n",
      " 4   orbiting_body      104083 non-null  object \n",
      " 5   relative_velocity  91002 non-null   float64\n",
      " 6   miss_distance      130228 non-null  float64\n",
      " 7   is_hazardous       131416 non-null  int64  \n",
      "dtypes: float64(5), int64(1), object(2)\n",
      "memory usage: 8.0+ MB\n",
      "None\n"
     ]
    },
    {
     "data": {
      "text/html": [
       "<div>\n",
       "<style scoped>\n",
       "    .dataframe tbody tr th:only-of-type {\n",
       "        vertical-align: middle;\n",
       "    }\n",
       "\n",
       "    .dataframe tbody tr th {\n",
       "        vertical-align: top;\n",
       "    }\n",
       "\n",
       "    .dataframe thead th {\n",
       "        text-align: right;\n",
       "    }\n",
       "</style>\n",
       "<table border=\"1\" class=\"dataframe\">\n",
       "  <thead>\n",
       "    <tr style=\"text-align: right;\">\n",
       "      <th></th>\n",
       "      <th>name</th>\n",
       "      <th>abs_magnitude</th>\n",
       "      <th>min_diameter</th>\n",
       "      <th>max_diameter</th>\n",
       "      <th>orbiting_body</th>\n",
       "      <th>relative_velocity</th>\n",
       "      <th>miss_distance</th>\n",
       "      <th>is_hazardous</th>\n",
       "    </tr>\n",
       "  </thead>\n",
       "  <tbody>\n",
       "    <tr>\n",
       "      <th>0</th>\n",
       "      <td>349507 (2008 QY)</td>\n",
       "      <td>NaN</td>\n",
       "      <td>NaN</td>\n",
       "      <td>1.185878</td>\n",
       "      <td>NaN</td>\n",
       "      <td>109949.757148</td>\n",
       "      <td>5.580105e+07</td>\n",
       "      <td>1</td>\n",
       "    </tr>\n",
       "    <tr>\n",
       "      <th>1</th>\n",
       "      <td>(2011 DW)</td>\n",
       "      <td>22.7</td>\n",
       "      <td>0.076658</td>\n",
       "      <td>0.171412</td>\n",
       "      <td>Earth</td>\n",
       "      <td>NaN</td>\n",
       "      <td>6.311863e+07</td>\n",
       "      <td>0</td>\n",
       "    </tr>\n",
       "    <tr>\n",
       "      <th>2</th>\n",
       "      <td>(2014 BT8)</td>\n",
       "      <td>25.0</td>\n",
       "      <td>0.026580</td>\n",
       "      <td>0.059435</td>\n",
       "      <td>NaN</td>\n",
       "      <td>47477.649832</td>\n",
       "      <td>4.290521e+07</td>\n",
       "      <td>0</td>\n",
       "    </tr>\n",
       "    <tr>\n",
       "      <th>3</th>\n",
       "      <td>(2008 OX1)</td>\n",
       "      <td>21.5</td>\n",
       "      <td>0.133216</td>\n",
       "      <td>0.297879</td>\n",
       "      <td>Earth</td>\n",
       "      <td>57853.295346</td>\n",
       "      <td>2.727908e+07</td>\n",
       "      <td>1</td>\n",
       "    </tr>\n",
       "    <tr>\n",
       "      <th>4</th>\n",
       "      <td>(2018 YH)</td>\n",
       "      <td>NaN</td>\n",
       "      <td>0.121494</td>\n",
       "      <td>0.271669</td>\n",
       "      <td>Earth</td>\n",
       "      <td>37424.548382</td>\n",
       "      <td>5.657727e+06</td>\n",
       "      <td>1</td>\n",
       "    </tr>\n",
       "  </tbody>\n",
       "</table>\n",
       "</div>"
      ],
      "text/plain": [
       "               name  abs_magnitude  min_diameter  max_diameter orbiting_body  \\\n",
       "0  349507 (2008 QY)            NaN           NaN      1.185878           NaN   \n",
       "1         (2011 DW)           22.7      0.076658      0.171412         Earth   \n",
       "2        (2014 BT8)           25.0      0.026580      0.059435           NaN   \n",
       "3        (2008 OX1)           21.5      0.133216      0.297879         Earth   \n",
       "4         (2018 YH)            NaN      0.121494      0.271669         Earth   \n",
       "\n",
       "   relative_velocity  miss_distance  is_hazardous  \n",
       "0      109949.757148   5.580105e+07             1  \n",
       "1                NaN   6.311863e+07             0  \n",
       "2       47477.649832   4.290521e+07             0  \n",
       "3       57853.295346   2.727908e+07             1  \n",
       "4       37424.548382   5.657727e+06             1  "
      ]
     },
     "execution_count": 2,
     "metadata": {},
     "output_type": "execute_result"
    }
   ],
   "source": [
    "import pandas as pd\n",
    "\n",
    "df = pd.read_csv('data/nasa_nearest_earth_objects_dataset.csv')\n",
    "\n",
    "# printing out dataset info\n",
    "print(df.info())\n",
    "df.head()"
   ]
  },
  {
   "cell_type": "code",
   "execution_count": 3,
   "metadata": {
    "ExecuteTime": {
     "end_time": "2023-10-06T12:15:57.538323Z",
     "start_time": "2023-10-06T12:15:57.507326Z"
    }
   },
   "outputs": [
    {
     "data": {
      "text/html": [
       "<div>\n",
       "<style scoped>\n",
       "    .dataframe tbody tr th:only-of-type {\n",
       "        vertical-align: middle;\n",
       "    }\n",
       "\n",
       "    .dataframe tbody tr th {\n",
       "        vertical-align: top;\n",
       "    }\n",
       "\n",
       "    .dataframe thead th {\n",
       "        text-align: right;\n",
       "    }\n",
       "</style>\n",
       "<table border=\"1\" class=\"dataframe\">\n",
       "  <thead>\n",
       "    <tr style=\"text-align: right;\">\n",
       "      <th></th>\n",
       "      <th>abs_magnitude</th>\n",
       "      <th>min_diameter</th>\n",
       "      <th>max_diameter</th>\n",
       "      <th>relative_velocity</th>\n",
       "      <th>miss_distance</th>\n",
       "      <th>is_hazardous</th>\n",
       "    </tr>\n",
       "  </thead>\n",
       "  <tbody>\n",
       "    <tr>\n",
       "      <th>count</th>\n",
       "      <td>104251.000000</td>\n",
       "      <td>104010.000000</td>\n",
       "      <td>130258.000000</td>\n",
       "      <td>91002.000000</td>\n",
       "      <td>1.302280e+05</td>\n",
       "      <td>131416.000000</td>\n",
       "    </tr>\n",
       "    <tr>\n",
       "      <th>mean</th>\n",
       "      <td>22.330584</td>\n",
       "      <td>0.188924</td>\n",
       "      <td>0.401200</td>\n",
       "      <td>54075.647110</td>\n",
       "      <td>4.144780e+07</td>\n",
       "      <td>0.328438</td>\n",
       "    </tr>\n",
       "    <tr>\n",
       "      <th>std</th>\n",
       "      <td>2.854634</td>\n",
       "      <td>0.322836</td>\n",
       "      <td>0.692532</td>\n",
       "      <td>27296.143139</td>\n",
       "      <td>2.078359e+07</td>\n",
       "      <td>0.469647</td>\n",
       "    </tr>\n",
       "    <tr>\n",
       "      <th>min</th>\n",
       "      <td>10.410000</td>\n",
       "      <td>0.000511</td>\n",
       "      <td>0.000000</td>\n",
       "      <td>439.938963</td>\n",
       "      <td>6.745533e+03</td>\n",
       "      <td>0.000000</td>\n",
       "    </tr>\n",
       "    <tr>\n",
       "      <th>25%</th>\n",
       "      <td>20.310000</td>\n",
       "      <td>0.035039</td>\n",
       "      <td>0.062236</td>\n",
       "      <td>33331.934742</td>\n",
       "      <td>2.453716e+07</td>\n",
       "      <td>0.000000</td>\n",
       "    </tr>\n",
       "    <tr>\n",
       "      <th>50%</th>\n",
       "      <td>21.770000</td>\n",
       "      <td>0.118183</td>\n",
       "      <td>0.246627</td>\n",
       "      <td>50501.496533</td>\n",
       "      <td>4.318902e+07</td>\n",
       "      <td>0.000000</td>\n",
       "    </tr>\n",
       "    <tr>\n",
       "      <th>75%</th>\n",
       "      <td>24.400000</td>\n",
       "      <td>0.229380</td>\n",
       "      <td>0.494356</td>\n",
       "      <td>70004.838289</td>\n",
       "      <td>5.933338e+07</td>\n",
       "      <td>1.000000</td>\n",
       "    </tr>\n",
       "    <tr>\n",
       "      <th>max</th>\n",
       "      <td>33.580000</td>\n",
       "      <td>22.006703</td>\n",
       "      <td>49.208483</td>\n",
       "      <td>275303.183496</td>\n",
       "      <td>7.479865e+07</td>\n",
       "      <td>1.000000</td>\n",
       "    </tr>\n",
       "  </tbody>\n",
       "</table>\n",
       "</div>"
      ],
      "text/plain": [
       "       abs_magnitude   min_diameter   max_diameter  relative_velocity  \\\n",
       "count  104251.000000  104010.000000  130258.000000       91002.000000   \n",
       "mean       22.330584       0.188924       0.401200       54075.647110   \n",
       "std         2.854634       0.322836       0.692532       27296.143139   \n",
       "min        10.410000       0.000511       0.000000         439.938963   \n",
       "25%        20.310000       0.035039       0.062236       33331.934742   \n",
       "50%        21.770000       0.118183       0.246627       50501.496533   \n",
       "75%        24.400000       0.229380       0.494356       70004.838289   \n",
       "max        33.580000      22.006703      49.208483      275303.183496   \n",
       "\n",
       "       miss_distance   is_hazardous  \n",
       "count   1.302280e+05  131416.000000  \n",
       "mean    4.144780e+07       0.328438  \n",
       "std     2.078359e+07       0.469647  \n",
       "min     6.745533e+03       0.000000  \n",
       "25%     2.453716e+07       0.000000  \n",
       "50%     4.318902e+07       0.000000  \n",
       "75%     5.933338e+07       1.000000  \n",
       "max     7.479865e+07       1.000000  "
      ]
     },
     "execution_count": 3,
     "metadata": {},
     "output_type": "execute_result"
    }
   ],
   "source": [
    "df.describe()"
   ]
  },
  {
   "cell_type": "markdown",
   "metadata": {},
   "source": [
    "## Exploratory data analysis\n",
    "\n",
    "Section for exploratory data analysis, to address **Tasks 1.1 and 1.2**.\n",
    "\n",
    "**OBS:** You may need to do some data cleaning before you do your full exploratory data analysis, though you will find that some functions we'll cover in this unit are able to handle things like missing values and non-numeric data.\n",
    "\n",
    "**Create more cells as needed!**"
   ]
  },
  {
   "cell_type": "code",
   "execution_count": null,
   "metadata": {
    "ExecuteTime": {
     "end_time": "2023-07-03T15:47:41.983038Z",
     "start_time": "2023-07-03T15:47:41.952118Z"
    }
   },
   "outputs": [],
   "source": []
  },
  {
   "cell_type": "code",
   "execution_count": null,
   "metadata": {},
   "outputs": [],
   "source": []
  },
  {
   "cell_type": "code",
   "execution_count": null,
   "metadata": {},
   "outputs": [],
   "source": []
  },
  {
   "cell_type": "markdown",
   "metadata": {},
   "source": [
    "## Task 2.1 - ML Workflow to Critically Evaluate"
   ]
  },
  {
   "cell_type": "code",
   "execution_count": 4,
   "metadata": {
    "ExecuteTime": {
     "end_time": "2023-10-06T12:15:57.551333Z",
     "start_time": "2023-10-06T12:15:57.539681Z"
    }
   },
   "outputs": [],
   "source": [
    "# Dropping all rows with missing values\n",
    "df = df.dropna()\n",
    "\n",
    "# Converting all non-numeric (object) features to numeric\n",
    "cat_columns = df.select_dtypes(['object']).columns\n",
    "df[cat_columns] = df[cat_columns].apply(lambda x: x.astype('category')) # converting 'object' columns to 'category' type\n",
    "df[cat_columns] = df[cat_columns].apply(lambda x: x.cat.codes) # converting the 'category' columns to integer encoded values"
   ]
  },
  {
   "cell_type": "code",
   "execution_count": 5,
   "metadata": {
    "ExecuteTime": {
     "end_time": "2023-10-06T12:15:57.581379Z",
     "start_time": "2023-10-06T12:15:57.552134Z"
    }
   },
   "outputs": [
    {
     "name": "stdout",
     "output_type": "stream",
     "text": [
      "[[5625  561]\n",
      " [ 310 2781]]\n",
      "\n",
      "Accuracy (Testing):  0.91 \n"
     ]
    }
   ],
   "source": [
    "# Splits the Pandas DataFrame into a feature matrix (X) and class/label vector (y)\n",
    "X = df.iloc[:,:len(df.columns)-1]\n",
    "y = df.iloc[:,len(df.columns)-1]\n",
    "\n",
    "# Splitting dataset for hold-out validation\n",
    "X_train, X_test, y_train, y_test = train_test_split(X, # feature matrix\n",
    "                                                    y, # label vector\n",
    "                                                    test_size=0.2,\n",
    "                                                    random_state=1,\n",
    "                                                    stratify=None\n",
    "                                                   )\n",
    "\n",
    "# Creating and testing a Logistic Regression Model\n",
    "model = RandomForestClassifier()\n",
    "\n",
    "# Training the model\n",
    "model.fit(X_train, y_train)\n",
    "\n",
    "# Testing the model\n",
    "y_pred = model.predict(X_test)\n",
    "\n",
    "# Printing out confusion matrix and accuracy\n",
    "print(metrics.confusion_matrix(y_test, y_pred))\n",
    "print(\"\\nAccuracy (Testing):  %0.2f \" % (metrics.accuracy_score(y_test, y_pred)))"
   ]
  },
  {
   "cell_type": "markdown",
   "metadata": {},
   "source": [
    "## Task 2.3 - Evaluation of Improved ML Workflow\n",
    "\n",
    "Add code for running your **improved** machine learning experiments below.\n"
   ]
  },
  {
   "cell_type": "code",
   "execution_count": 6,
   "metadata": {},
   "outputs": [],
   "source": [
    "# Loading the dataset again, for you to do your own pre-processing (instead of what was done above)\n",
    "df = pd.read_csv('data/nasa_nearest_earth_objects_dataset.csv')"
   ]
  },
  {
   "cell_type": "code",
   "execution_count": null,
   "metadata": {},
   "outputs": [],
   "source": []
  },
  {
   "cell_type": "code",
   "execution_count": null,
   "metadata": {},
   "outputs": [],
   "source": []
  },
  {
   "cell_type": "code",
   "execution_count": null,
   "metadata": {},
   "outputs": [],
   "source": []
  }
 ],
 "metadata": {
  "kernelspec": {
   "display_name": "Python 3 (ipykernel)",
   "language": "python",
   "name": "python3"
  },
  "language_info": {
   "codemirror_mode": {
    "name": "ipython",
    "version": 3
   },
   "file_extension": ".py",
   "mimetype": "text/x-python",
   "name": "python",
   "nbconvert_exporter": "python",
   "pygments_lexer": "ipython3",
   "version": "3.9.7"
  },
  "toc": {
   "base_numbering": 1,
   "nav_menu": {},
   "number_sections": true,
   "sideBar": true,
   "skip_h1_title": false,
   "title_cell": "Table of Contents",
   "title_sidebar": "Contents",
   "toc_cell": false,
   "toc_position": {},
   "toc_section_display": true,
   "toc_window_display": true
  },
  "varInspector": {
   "cols": {
    "lenName": 16,
    "lenType": 16,
    "lenVar": 40
   },
   "kernels_config": {
    "python": {
     "delete_cmd_postfix": "",
     "delete_cmd_prefix": "del ",
     "library": "var_list.py",
     "varRefreshCmd": "print(var_dic_list())"
    },
    "r": {
     "delete_cmd_postfix": ") ",
     "delete_cmd_prefix": "rm(",
     "library": "var_list.r",
     "varRefreshCmd": "cat(var_dic_list()) "
    }
   },
   "types_to_exclude": [
    "module",
    "function",
    "builtin_function_or_method",
    "instance",
    "_Feature"
   ],
   "window_display": false
  }
 },
 "nbformat": 4,
 "nbformat_minor": 4
}
